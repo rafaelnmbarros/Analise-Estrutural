{
 "cells": [
  {
   "cell_type": "markdown",
   "metadata": {},
   "source": [
    "# Ações e carregamentos sobre as estruturas\n",
    "## Origens das ações\n",
    "## Forças e momentos\n",
    "## Tipos de carregamentos\n",
    "### *Cargas concentradas*\n",
    "### *Cargas distribuídas*\n",
    "* Força resultante\n",
    "* Localização da força resultante\n",
    "\n",
    "##### Cargas distribuídas uniformemente\n",
    "$F_{R} = p\\cdot l $<br>\n",
    "$x_{FR} = \\frac{l}{2} $<br>\n",
    "##### Cargas triangulares\n",
    "$F_{R} = \\frac{p_{1}\\cdot l}{2} $<br>\n",
    "$x_{FR} = \\frac{l}{3} $<br>\n",
    "##### Cargas trapezoidais\n",
    "##### Cargas parabólicas\n",
    "$F_{R} = \\int{p(x)\\ dx}$<BR>\n",
    "    \n",
    "$x_{FR} = \\frac{\\int{p(x)\\cdot x\\ dx}}{\\int{p(x)\\ dx}}$<br>\n",
    "## Cálculo de forças resultantes por áreas de influência"
   ]
  },
  {
   "cell_type": "code",
   "execution_count": 1,
   "metadata": {},
   "outputs": [
    {
     "name": "stdout",
     "output_type": "stream",
     "text": [
      "\n",
      "\n",
      "************************************************\n",
      "Algoritmo para cálculo da força resultante de \n",
      "            uma carga triangular\n",
      "************************************************\n",
      "------------------------------------------------\n",
      "Dados de entrada\n",
      "------------------------------------------------\n",
      "Valor inicial da carga:     q0 = 0.000000 kN/m\n",
      "Valor final da carga:       q1 = 10.000000 kN/m\n",
      "\n",
      "------------------------------------------------\n",
      "Resultados\n",
      "------------------------------------------------\n",
      "Valor da força resultante: FR  = 25.000000 kN\n",
      "Local da força resultate:  xFR = 3.333333 m\n",
      "\n",
      "******************* FIM ***********************\n",
      "\n",
      "\n"
     ]
    }
   ],
   "source": [
    "q0 = 0 #kN\n",
    "q1 = 10 #kN\n",
    "l = 5 #m\n",
    "FR = q1*l/2\n",
    "if q0<=q1:\n",
    "    xFR = 2*l/3\n",
    "else:\n",
    "    xFR = l/3\n",
    "\n",
    "print(\"\")\n",
    "print(\"\")\n",
    "print(\"************************************************\")\n",
    "print(\"Algoritmo para cálculo da força resultante de \")\n",
    "print(\"            uma carga triangular\")\n",
    "print(\"************************************************\")\n",
    "print(\"------------------------------------------------\")\n",
    "print(\"Dados de entrada\")\n",
    "print(\"------------------------------------------------\")\n",
    "print(\"Valor inicial da carga:     q0 = %f\" %q0, 'kN/m')\n",
    "print(\"Valor final da carga:       q1 = %f\" %q1, 'kN/m')\n",
    "print(\"\")\n",
    "print(\"------------------------------------------------\")\n",
    "print(\"Resultados\")\n",
    "print(\"------------------------------------------------\")\n",
    "print('Valor da força resultante: FR  = %f' %FR, 'kN')\n",
    "print('Local da força resultate:  xFR = %f' %xFR, 'm')\n",
    "print(\"\")\n",
    "print(\"******************* FIM ***********************\")\n",
    "print(\"\")\n",
    "print(\"\")\n"
   ]
  },
  {
   "cell_type": "markdown",
   "metadata": {},
   "source": [
    "# Solicitações e Esforços internos em estruturas reticuladas\n",
    "## Tipos de solicitação\n",
    "* Força axial\n",
    "    * Tração\n",
    "    * Compressão\n",
    "* Força cortante ou cisalhamento\n",
    "* Flexão\n",
    "    * Reta ou normal\n",
    "    * Oblíqua\n",
    "* Torção\n",
    "* Solicitações combinadas\n",
    "    * Flexo-compressão\n",
    "    * Frexo-tração\n",
    "    * Flexo-torção"
   ]
  }
 ],
 "metadata": {
  "kernelspec": {
   "display_name": "Python 3.8.8 ('base')",
   "language": "python",
   "name": "python3"
  },
  "language_info": {
   "codemirror_mode": {
    "name": "ipython",
    "version": 3
   },
   "file_extension": ".py",
   "mimetype": "text/x-python",
   "name": "python",
   "nbconvert_exporter": "python",
   "pygments_lexer": "ipython3",
   "version": "3.8.8"
  },
  "orig_nbformat": 4,
  "vscode": {
   "interpreter": {
    "hash": "ec1eed7ba1d2779ad571cb3d56c9cc2145750a9a366aa19de7670ee4a571ff8d"
   }
  }
 },
 "nbformat": 4,
 "nbformat_minor": 2
}
