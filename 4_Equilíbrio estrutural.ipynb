{
 "cells": [
  {
   "cell_type": "markdown",
   "metadata": {},
   "source": [
    "# Equilíbrio global da estrutura\n",
    "## Tipos de movimento global\n",
    "* Deslizamento\n",
    "* Flutuação\n",
    "* Tombamento\n",
    "\n",
    "## Equações de equilíbrio\n",
    "Segundo a primeira Lei de Newton, uma estrutura estará em equilíbrio estático se o carregamento resultante sobre ela for nulo. Mas em uma estrutura é natural que hajam carregamentos aplicados sobre ela. Afinal, é justamente para suportar estes carregamentos que a estrutura serve. A condição de equilíbrio, neste caso, exige que o somatório dos carregamentos seja ugal a zero. Por carregamentos, consideremos as forças resultantes de cargas distribuídas e reações de apoio sobre a estrutura.\n",
    "\n",
    "### *Equilíbio de uma estrutura bidimensional*\n",
    "Uma estrutura bidimensional no plano x-y possui 3 equações de equilíbrio. Considera-se que o equilíbrio estará garantido somente se todas estas as três equações forem satisfeitas.<br>\n",
    "\n",
    "1\\) $\\sum F_{x} = 0$ (o somatório de forças na direção x é igual a zero)<br>\n",
    "2\\) $\\sum F_{y} = 0$ (o somatório de forças na direção y é igual a zero)<br>\n",
    "3\\) $\\sum M_{0,z} = 0$ (o somatório de momentos no plano x-y, isto é, em torno do eixo z, é igual a zero)<br>\n",
    "\n",
    "Considere que no plano x-y, x seja o eixo na direção horizontal e y o eixo na direção vertical. Observe que: <br>\n",
    "* A condição imposta pela equação 1), acima, garante a estrutura não sofra um deslizamento na horizontal;\n",
    "* A condição imposta pela equação 2) garante a estrutura não ceda (deslocamento vertical para baixo) e nem flutue (deslocamento vertical para cima);\n",
    "* A condição imposta pela equação 3) garante a estrutura não sofra um tombamento no plano x-y, ou seja, com rotação em torno do eixo z;\n",
    "\n",
    "\n",
    "### *Equilíbio de uma estrutura tridimensional*\n",
    "O estabelecimento dos critérios de equilíbrio de uma estrutura tridimensional é semelhante ao de uma estrutura bidimnesional, considerando desta vez, que a estrutura está desenhada em três dimensões (espaçox-y-z). Desta forma, surje mais uma possibilidade de deslocamento (na direção z) e mais duas possibilidades de rotação: uma em torno eixo x, que pode ser observada no plano y-z; e outra em torno do eixo y, que pode ser observada no plano x-z. Desta forma, as equações de equilíbrio são: <br>\n",
    "\n",
    "1\\) $\\sum F_{x} = 0$<br>\n",
    "2\\) $\\sum F_{y} = 0$<br>\n",
    "3\\) $\\sum F_{z} = 0$<br>\n",
    "4\\) $\\sum M_{0,x} = 0$<br>\n",
    "5\\) $\\sum M_{0,y} = 0$<br>\n",
    "6\\) $\\sum M_{0,z} = 0$<br>\n",
    "\n",
    "Analisando as equações acima de forma análoga às de estruturas bidimensionais, considerando que os eixos x e y forma um plano horizontal e que o eixo z seja esteja na vertical:\n",
    "\n",
    "* A equação 1) garante que a estrutura não sofra um deslizamento horizontal na direção x;\n",
    "* A equação 2) garante que a estrutura não sofra um deslizamento horizontal na direção y;\n",
    "* A equação 3) garante a estrutura não ceda e nem flutue na direção z;\n",
    "* A equação 4) garante a estrutura não sofra um tombamento no plano y-z, ou seja, com rotação em torno do eixo x;\n",
    "* A equação 5) garante a estrutura não sofra um tombamento no plano x-z, ou seja, com rotação em torno do eixo y;\n",
    "* A equação 4) garante a estrutura não sofra um tombamento no plano x-y, ou seja, com rotação em torno do eixo z;\n"
   ]
  },
  {
   "cell_type": "markdown",
   "metadata": {},
   "source": [
    "# Cálculo de reações de apoio por equações de equilíbrio"
   ]
  }
 ],
 "metadata": {
  "kernelspec": {
   "display_name": "Python 3.8.8 ('base')",
   "language": "python",
   "name": "python3"
  },
  "language_info": {
   "name": "python",
   "version": "3.8.8"
  },
  "orig_nbformat": 4,
  "vscode": {
   "interpreter": {
    "hash": "ec1eed7ba1d2779ad571cb3d56c9cc2145750a9a366aa19de7670ee4a571ff8d"
   }
  }
 },
 "nbformat": 4,
 "nbformat_minor": 2
}
