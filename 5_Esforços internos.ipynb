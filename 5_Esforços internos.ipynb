{
 "cells": [
  {
   "cell_type": "markdown",
   "metadata": {},
   "source": [
    "# Solicitações e Esforços internos em estruturas reticuladas\n",
    "## Tipos de solicitação\n",
    "* Força axial\n",
    "    * Tração\n",
    "    * Compressão\n",
    "* Força cortante ou cisalhamento\n",
    "* Flexão\n",
    "    * Reta ou normal\n",
    "    * Oblíqua\n",
    "* Torção\n",
    "* Solicitações combinadas\n",
    "    * Flexo-compressão\n",
    "    * Frexo-tração\n",
    "    * Flexo-torção"
   ]
  }
 ],
 "metadata": {
  "language_info": {
   "name": "python"
  },
  "orig_nbformat": 4
 },
 "nbformat": 4,
 "nbformat_minor": 2
}
